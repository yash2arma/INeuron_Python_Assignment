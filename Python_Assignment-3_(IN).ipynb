{
 "cells": [
  {
   "cell_type": "markdown",
   "metadata": {},
   "source": [
    "#### Question-1.1\n",
    "Write a Python Program to implement your own myreduce() function which works exactly like Python's built-in function reduce()"
   ]
  },
  {
   "cell_type": "code",
   "execution_count": 20,
   "metadata": {},
   "outputs": [
    {
     "name": "stdout",
     "output_type": "stream",
     "text": [
      "Sum of list elements: 45.000000\n",
      "Multiplication of list elements: 362880.000000\n",
      "Largest Number in the list: 11\n"
     ]
    }
   ],
   "source": [
    "#create myreduce function\n",
    "def myreduce(function, sequence):\n",
    "    a = sequence[0]\n",
    "    \n",
    "    for i in range(1,len(sequence)):\n",
    "        b = sequence[i]\n",
    "        a = function(a,b)\n",
    "    return a\n",
    "\n",
    "#define addition function\n",
    "def sum(m,n):\n",
    "    return m+n\n",
    "\n",
    "#define multiplication function\n",
    "def mul(m,n):\n",
    "    return(m*n)\n",
    "\n",
    "#create list\n",
    "list1 = [1,2,3,4,5,6,7,8,9]\n",
    "\n",
    "#call myreduce function\n",
    "print(\"Sum of list elements: %f\" %myreduce(sum,list1))\n",
    "\n",
    "print(\"Multiplication of list elements: %f\" %myreduce(mul,list1))\n",
    "\n",
    "print(\"Largest Number in the list: %d\" %myreduce((lambda a,b: a if a>b else b),[1,5,2,4,7,9,3,5,10,11]))   "
   ]
  },
  {
   "cell_type": "markdown",
   "metadata": {},
   "source": [
    "#### Question 1.2\n",
    "Write a Python program to implement your own myfilter() function which works exactly like Python's built-in function filter()"
   ]
  },
  {
   "cell_type": "code",
   "execution_count": 35,
   "metadata": {},
   "outputs": [
    {
     "name": "stdout",
     "output_type": "stream",
     "text": [
      "List of odd numbers:  [1, 3, 5, 7, 9]\n",
      "List of even numbers:  [4, 6, 8]\n"
     ]
    }
   ],
   "source": [
    "def myfilter(function, sequence):\n",
    "    output_list = []\n",
    "    for i in range(len(sequence)):\n",
    "        if function(sequence[i]) == True:\n",
    "            output_list.append(sequence[i])\n",
    "    return output_list\n",
    "\n",
    "#define odd number checking function\n",
    "def odd_number(a):\n",
    "    if a%2 != 0:\n",
    "        return True\n",
    "\n",
    "#create list\n",
    "list1 = [1,2,3,4,5,6,7,8,9]\n",
    "\n",
    "#calling function\n",
    "print(\"List of odd numbers: \",myfilter(odd_number,list1))\n",
    "\n",
    "print(\"List of even numbers: \",myfilter((lambda a: True if a%2 ==0 else False), [4,3,5,6,3,9,8,5]))"
   ]
  },
  {
   "cell_type": "markdown",
   "metadata": {},
   "source": [
    "#### Question-2\n",
    "Implement List comprehensions to produce the following lists.\n",
    "\n",
    "Write List comprehensions to produce the following Lists\n",
    "\n",
    "['A', 'C', 'A', 'D', 'G', 'I', ’L’, ‘ D’]\n",
    "\n",
    "['x', 'xx', 'xxx', 'xxxx', 'y', 'yy', 'yyy', 'yyyy', 'z', 'zz', 'zzz', 'zzzz']\n",
    "\n",
    "['x', 'y', 'z', 'xx', 'yy', 'zz', 'xxx', 'yyy', 'zzz', 'xxxx', 'yyyy', 'zzzz']\n",
    "\n",
    "[[2], [3], [4], [3], [4], [5], [4], [5], [6]] \n",
    "\n",
    "[[2, 3, 4, 5], [3, 4, 5, 6],[4, 5, 6, 7], [5, 6, 7, 8]]\n",
    "\n",
    "[(1, 1), (2, 1), (3, 1), (1, 2), (2, 2), (3, 2), (1, 3), (2, 3), (3, 3)]"
   ]
  },
  {
   "cell_type": "code",
   "execution_count": 56,
   "metadata": {},
   "outputs": [
    {
     "name": "stdout",
     "output_type": "stream",
     "text": [
      "\n",
      "ACADGILD:  ['A', 'C', 'A', 'D', 'G', 'I', 'L', 'D']\n",
      "\n",
      "['x','y','z']:  ['x', 'xx', 'xxx', 'xxxx', 'y', 'yy', 'yyy', 'yyyy', 'z', 'zz', 'zzz', 'zzzz']\n",
      "\n",
      "['x','y','z']: ['x', 'y', 'z', 'xx', 'yy', 'zz', 'xxx', 'yyy', 'zzz', 'xxxx', 'yyyy', 'zzzz']\n",
      "\n",
      "[2,3,4]:  [[2], [3], [4], [3], [4], [5], [4], [5], [6]]\n",
      "\n",
      "[2,3,4,5]:  [[2, 3, 4, 5], [3, 4, 5, 6], [4, 5, 6, 7], [5, 6, 7, 8]]\n",
      "\n",
      "[1,2,3]:  [(1, 1), (2, 1), (3, 1), (1, 2), (2, 2), (3, 2), (1, 3), (2, 3), (3, 3)]\n"
     ]
    }
   ],
   "source": [
    "#['A', 'C', 'A', 'D', 'G', 'I', ’L’, ‘ D’]\n",
    "word = \"ACADGILD\"\n",
    "list1 = [alphabet for alphabet in word]\n",
    "print (\"\\nACADGILD: \" ,list1)\n",
    "\n",
    "#['x', 'xx', 'xxx', 'xxxx', 'y', 'yy', 'yyy', 'yyyy', 'z', 'zz', 'zzz', 'zzzz']\n",
    "input_list = ['x','y','z']\n",
    "result = [item*num for item in input_list for num in range(1,5)]\n",
    "print(\"\\n['x','y','z']: \",result)\n",
    "\n",
    "#['x', 'y', 'z', 'xx', 'yy', 'zz', 'xxx', 'yyy', 'zzz', 'xxxx', 'yyyy', 'zzzz']\n",
    "input_list = ['x','y','z']\n",
    "result = [item*num for num in range(1,5) for item in input_list]\n",
    "print(\"\\n['x','y','z']:\",result)\n",
    "\n",
    "#[[2], [3], [4], [3], [4], [5], [4], [5], [6]]\n",
    "input_list = [2,3,4]\n",
    "result = [[item+num] for item in input_list for num in range(0,3)]\n",
    "print(\"\\n[2,3,4]: \",result)\n",
    "\n",
    "# [[2, 3, 4, 5], [3, 4, 5, 6],[4, 5, 6, 7], [5, 6, 7, 8]]\n",
    "input_list = [2,3,4,5]\n",
    "result = [[item+num for item in input_list] for num in range(0,4)]\n",
    "print(\"\\n[2,3,4,5]: \",result)\n",
    "\n",
    "#[(1, 1), (2, 1), (3, 1), (1, 2), (2, 2), (3, 2), (1, 3), (2, 3), (3, 3)]\n",
    "input_list=[1,2,3]\n",
    "result = [(b,a) for a in input_list for b in input_list]\n",
    "print(\"\\n[1,2,3]: \",result)"
   ]
  }
 ],
 "metadata": {
  "kernelspec": {
   "display_name": "Python 3",
   "language": "python",
   "name": "python3"
  },
  "language_info": {
   "codemirror_mode": {
    "name": "ipython",
    "version": 3
   },
   "file_extension": ".py",
   "mimetype": "text/x-python",
   "name": "python",
   "nbconvert_exporter": "python",
   "pygments_lexer": "ipython3",
   "version": "3.7.4"
  }
 },
 "nbformat": 4,
 "nbformat_minor": 2
}
