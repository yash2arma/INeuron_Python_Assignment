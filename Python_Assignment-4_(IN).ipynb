{
 "cells": [
  {
   "cell_type": "markdown",
   "metadata": {},
   "source": [
    "#### Question-1.1\n",
    "Write a Python Program(with class concepts) to find the area of the triangle using the below formula.\n",
    "\n",
    "area = (s*(s-a)*(s-b)*(s-c)) ** 0.5\n",
    "\n",
    "Function to take the length of the sides of triangle from user should be defined in the parent\n",
    "\n",
    "class and function to calculate the area should be defined in subclass."
   ]
  },
  {
   "cell_type": "code",
   "execution_count": 28,
   "metadata": {},
   "outputs": [
    {
     "name": "stdout",
     "output_type": "stream",
     "text": [
      "a=5\n",
      "b=3\n",
      "c=5\n",
      "Area:  7.1545440106270926\n"
     ]
    }
   ],
   "source": [
    "# create parent class \n",
    "class polygon:\n",
    "    def __init__(self,a,b,c):\n",
    "        self.a = a\n",
    "        self.b = b\n",
    "        self.c = c\n",
    "        \n",
    "class triangle(polygon):\n",
    "    def __init__(self,a,b,c):\n",
    "        super().__init__(a,b,c)\n",
    "\n",
    "    def area(self):\n",
    "        s = (a + b + c) / 2\n",
    "        return (s*(s-a)*(s-b)*(s-c)) ** 0.5        \n",
    "\n",
    "a= float(input(\"a=\"))\n",
    "b= float(input(\"b=\"))\n",
    "c= float(input(\"c=\"))\n",
    "\n",
    "t = triangle(a,b,c)\n",
    "print(\"Area: \",t.area())"
   ]
  },
  {
   "cell_type": "markdown",
   "metadata": {},
   "source": [
    "#### Question-1.2\n",
    "Write a function filter_long_words() that takes a list of words and an integer n and returns the list of words that are longer than n."
   ]
  },
  {
   "cell_type": "code",
   "execution_count": 29,
   "metadata": {},
   "outputs": [
    {
     "name": "stdout",
     "output_type": "stream",
     "text": [
      "Filter list of words that are longer than 543: ['rose', 'happy']\n"
     ]
    }
   ],
   "source": [
    "def filter_long_words(word_list, n):\n",
    "    #convert int into string\n",
    "    number = str(n)\n",
    "    \n",
    "    #define empty list\n",
    "    filter_list = []\n",
    "    \n",
    "    for i in word_list:\n",
    "        if len(i) > len(number):\n",
    "            filter_list.append(i)\n",
    "    print(\"Filter list of words that are longer than {}: {}\".format(n,filter_list))        \n",
    "\n",
    "#define list\n",
    "l1 = [\"rose\", \"happy\", \"car\"]\n",
    "\n",
    "#calling the function\n",
    "filter_long_words(l1,543)"
   ]
  },
  {
   "cell_type": "markdown",
   "metadata": {},
   "source": [
    "#### Question-2.1\n",
    "Write a Python program using function concept that maps list of words into a list of integers representing the lengths of the corresponding words.\n",
    "\n",
    "Hint: If a list [ ab,cde,erty] is passed on to the python function output should come as [2,3,4]\n",
    "\n",
    "Here 2,3 and 4 are the lengths of the words in the list."
   ]
  },
  {
   "cell_type": "code",
   "execution_count": 21,
   "metadata": {},
   "outputs": [
    {
     "name": "stdout",
     "output_type": "stream",
     "text": [
      "Interger list corresponding to the length of words:  [4, 5, 9, 10, 5, 9, 6]\n"
     ]
    }
   ],
   "source": [
    "#create function\n",
    "def mapping(word_list):\n",
    "    count_list = []\n",
    "    for i in word_list:\n",
    "        n = len(i)\n",
    "        count_list.append(n)\n",
    "    print(\"Interger list corresponding to the length of words: \",count_list)\n",
    "        \n",
    "    \n",
    "#define list of words\n",
    "l2 = ['ghtj','ktfsf','happiness','confidence','judge','knowledge','laptop']\n",
    "\n",
    "#calling the function\n",
    "mapping(l2)"
   ]
  },
  {
   "cell_type": "markdown",
   "metadata": {},
   "source": [
    "#### Question-2.2\n",
    "Write a Python function which takes a character (i.e. a string of length 1) and returns True if it is a vowel, False otherwise."
   ]
  },
  {
   "cell_type": "code",
   "execution_count": 43,
   "metadata": {},
   "outputs": [
    {
     "data": {
      "text/plain": [
       "True"
      ]
     },
     "execution_count": 43,
     "metadata": {},
     "output_type": "execute_result"
    }
   ],
   "source": [
    "#define function\n",
    "def vowel_check(v):\n",
    "    if v.lower() in 'aeiou':\n",
    "        return True\n",
    "    else:\n",
    "        return False\n",
    "\n",
    "#calling function    \n",
    "vowel_check('U')"
   ]
  },
  {
   "cell_type": "code",
   "execution_count": null,
   "metadata": {},
   "outputs": [],
   "source": []
  }
 ],
 "metadata": {
  "kernelspec": {
   "display_name": "Python 3",
   "language": "python",
   "name": "python3"
  },
  "language_info": {
   "codemirror_mode": {
    "name": "ipython",
    "version": 3
   },
   "file_extension": ".py",
   "mimetype": "text/x-python",
   "name": "python",
   "nbconvert_exporter": "python",
   "pygments_lexer": "ipython3",
   "version": "3.7.4"
  }
 },
 "nbformat": 4,
 "nbformat_minor": 2
}
